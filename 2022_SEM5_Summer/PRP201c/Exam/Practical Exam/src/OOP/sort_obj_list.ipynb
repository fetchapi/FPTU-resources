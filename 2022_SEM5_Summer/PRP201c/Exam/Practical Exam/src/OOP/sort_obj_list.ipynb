{
 "cells": [
  {
   "cell_type": "markdown",
   "metadata": {},
   "source": [
    "## Using `list.sort()`"
   ]
  },
  {
   "cell_type": "code",
   "execution_count": 7,
   "metadata": {},
   "outputs": [
    {
     "name": "stdout",
     "output_type": "stream",
     "text": [
      "[{Joe, Finance, 25}, {John, IT, 28}, {Sam, Banking, 20}]\n",
      "[{Sam, Banking, 20}, {John, IT, 28}, {Joe, Finance, 25}]\n"
     ]
    }
   ],
   "source": [
    "class Employee:\n",
    "     \n",
    "    def __init__(self, name, dept, age):\n",
    "        self.name = name\n",
    "        self.dept = dept\n",
    "        self.age = age\n",
    " \n",
    "    def __repr__(self):\n",
    "        return '{' + self.name + ', ' + self.dept + ', ' + str(self.age) + '}'\n",
    " \n",
    "if __name__ == '__main__':\n",
    " \n",
    "    employees = [\n",
    "        Employee('John', 'IT', 28),\n",
    "        Employee('Sam', 'Banking', 20),\n",
    "        Employee('Joe', 'Finance', 25)\n",
    "    ]\n",
    " \n",
    "    # sort list by `name` in the natural order\n",
    "    employees.sort(key=lambda x: x.name)\n",
    " \n",
    "    # output: [{Joe, Finance, 25}, {John, IT, 28}, {Sam, Banking, 20}]\n",
    "    print(employees)\n",
    " \n",
    "    # sort list by `name` in reverse order\n",
    "    employees.sort(key=lambda x: x.name, reverse=True)\n",
    " \n",
    "    # output: [{Sam, Banking, 20}, {John, IT, 28}, {Joe, Finance, 25}]\n",
    "    print(employees)"
   ]
  },
  {
   "cell_type": "markdown",
   "metadata": {},
   "source": [
    "You can also use the `operator.attrgetter()` function to produce value for the key attribute. It returns a callable object that fetches a specified attribute from its operand."
   ]
  },
  {
   "cell_type": "code",
   "execution_count": 8,
   "metadata": {},
   "outputs": [
    {
     "name": "stdout",
     "output_type": "stream",
     "text": [
      "[{Joe, Finance, 25}, {John, IT, 28}, {Sam, Banking, 20}]\n"
     ]
    }
   ],
   "source": [
    "from operator import attrgetter\n",
    " \n",
    "class Employee:\n",
    " \n",
    "    def __init__(self, name, dept, age):\n",
    "        self.name = name\n",
    "        self.dept = dept\n",
    "        self.age = age\n",
    " \n",
    "    def __repr__(self):\n",
    "        return '{' + self.name + ', ' + self.dept + ', ' + str(self.age) + '}'\n",
    " \n",
    "if __name__ == '__main__':\n",
    " \n",
    "    employees = [\n",
    "        Employee('John', 'IT', 28),\n",
    "        Employee('Sam', 'Banking', 20),\n",
    "        Employee('Joe', 'Finance', 25)\n",
    "    ]\n",
    " \n",
    "    employees.sort(key=attrgetter('name'))\n",
    " \n",
    "    # output: [{Joe, Finance, 25}, {John, IT, 28}, {Sam, Banking, 20}]\n",
    "    print(employees)"
   ]
  },
  {
   "cell_type": "markdown",
   "metadata": {},
   "source": [
    "## Using `sorted()`"
   ]
  },
  {
   "cell_type": "code",
   "execution_count": 9,
   "metadata": {},
   "outputs": [
    {
     "name": "stdout",
     "output_type": "stream",
     "text": [
      "[{Joe, Finance, 25}, {John, IT, 28}, {Sam, Banking, 20}]\n"
     ]
    }
   ],
   "source": [
    "\n",
    "class Employee:\n",
    " \n",
    "    def __init__(self, name, dept, age):\n",
    "        self.name = name\n",
    "        self.dept = dept\n",
    "        self.age = age\n",
    " \n",
    "    def __repr__(self):\n",
    "        return '{' + self.name + ', ' + self.dept + ', ' + str(self.age) + '}'\n",
    " \n",
    "if __name__ == '__main__':\n",
    " \n",
    "    employees = [\n",
    "        Employee('John', 'IT', 28),\n",
    "        Employee('Sam', 'Banking', 20),\n",
    "        Employee('Joe', 'Finance', 25)\n",
    "    ]\n",
    " \n",
    "    sortedByName = sorted(employees, key=lambda x: x.name)\n",
    " \n",
    "    # output: [{Joe, Finance, 25}, {John, IT, 28}, {Sam, Banking, 20}]\n",
    "    print(sortedByName)\n",
    "    # print(dir(Employee))"
   ]
  },
  {
   "cell_type": "markdown",
   "metadata": {},
   "source": [
    "# Sort a list of objects by multiple attributes in Python"
   ]
  },
  {
   "cell_type": "markdown",
   "metadata": {},
   "source": [
    "## Using `list.sort()` function"
   ]
  },
  {
   "cell_type": "code",
   "execution_count": 10,
   "metadata": {},
   "outputs": [
    {
     "name": "stdout",
     "output_type": "stream",
     "text": [
      "[{Robert, Construction, 60000}, {James, Finance, 80000}, {James, Telecom, 70000}]\n",
      "[{James, Finance, 80000}, {James, Telecom, 70000}, {Robert, Construction, 60000}]\n",
      "[{Robert, Construction, 60000}, {James, Telecom, 70000}, {James, Finance, 80000}]\n",
      "[{James, Finance, 80000}, {James, Telecom, 70000}, {Robert, Construction, 60000}]\n",
      "[{Robert, Construction, 60000}, {James, Telecom, 70000}, {James, Finance, 80000}]\n"
     ]
    }
   ],
   "source": [
    "class Associate:\n",
    "     \n",
    "    def __init__(self, name, dept, salary):\n",
    "        self.name = name\n",
    "        self.dept = dept\n",
    "        self.salary = salary\n",
    " \n",
    "    def __repr__(self):\n",
    "        return '{' + self.name + ', ' + self.dept + ', ' + str(self.salary) + '}'\n",
    " \n",
    "if __name__ == '__main__':\n",
    " \n",
    "    associates = [\n",
    "        Associate('James', 'Finance', 80000),\n",
    "        Associate('Robert', 'Construction', 60000),\n",
    "        Associate('James', 'Telecom', 70000)\n",
    "    ]\n",
    " \n",
    "    # 1. Sort by only `dept` attribute\n",
    "    associates.sort(key=lambda x: x.dept)\n",
    " \n",
    "    # [{Robert, Construction, 60000}, {James, Finance, 80000}, {James, Telecom, 70000}]\n",
    "    print(associates)\n",
    " \n",
    "    # 2. Sort by `name` attribute, followed by `dept` attribute\n",
    "    associates.sort(key=lambda x: (x.name, x.dept))\n",
    " \n",
    "    # [{James, Finance, 80000}, {James, Telecom, 70000}, {Robert, Construction, 60000}]\n",
    "    print(associates)\n",
    " \n",
    "    # 3. Sort by `name` attribute in reverse order,\n",
    "    #, followed by `dept` attribute in reverse order\n",
    "    associates.sort(key=lambda x: (x.name, x.dept), reverse=True)\n",
    " \n",
    "    # [{Robert, Construction, 60000}, {James, Telecom, 70000}, {James, Finance, 80000}]\n",
    "    print(associates)\n",
    " \n",
    "    # 4. Sort by `name` attribute in the natural order,\n",
    "    #, followed by numeric `salary` attribute in reverse order\n",
    "    associates.sort(key=lambda x: (x.name, -x.salary))\n",
    " \n",
    "    # [{James, Finance, 80000}, {James, Telecom, 70000}, {Robert, Construction, 60000}]\n",
    "    print(associates)\n",
    "    \n",
    "    \n",
    "    # 5. Sort by `name` attribute in the natural order,\n",
    "    #, followed by numeric `salary` attribute in reverse order\n",
    "    associates.sort(key=lambda x: (x.name, x.dept), reverse=True)\n",
    " \n",
    "    # [{James, Finance, 80000}, {James, Telecom, 70000}, {Robert, Construction, 60000}]\n",
    "    print(associates)"
   ]
  },
  {
   "cell_type": "code",
   "execution_count": 1,
   "metadata": {},
   "outputs": [
    {
     "name": "stdout",
     "output_type": "stream",
     "text": [
      "[{James, Finance}, {James, Telecom}, {Robert, Construction}]\n"
     ]
    }
   ],
   "source": [
    "from operator import attrgetter\n",
    " \n",
    "class Associate:\n",
    " \n",
    "    def __init__(self, name, dept):\n",
    "        self.name = name\n",
    "        self.dept = dept\n",
    " \n",
    "    def __repr__(self):\n",
    "        return '{' + self.name + ', ' + self.dept + '}'\n",
    " \n",
    "if __name__ == '__main__':\n",
    " \n",
    "    associates = [\n",
    "        Associate('James', 'Telecom'),\n",
    "        Associate('Robert', 'Construction'),\n",
    "        Associate('James', 'Finance')\n",
    "    ]\n",
    " \n",
    "    # sort by `name` and `dept` attribute\n",
    "    associates.sort(key=attrgetter('name', 'dept'))\n",
    " \n",
    "    # [{James, Finance}, {James, Telecom}, {Robert, Construction}]\n",
    "    print(associates)"
   ]
  },
  {
   "cell_type": "code",
   "execution_count": 8,
   "metadata": {},
   "outputs": [
    {
     "name": "stdout",
     "output_type": "stream",
     "text": [
      "[{James, Telecom, 70000}, {James, Finance, 80000}, {James, Aelecom, 70000}, {Robert, Construction, 60000}]\n"
     ]
    }
   ],
   "source": [
    "from functools import cmp_to_key\n",
    "\n",
    "class Associate:\n",
    "     \n",
    "    def __init__(self, name, dept, salary):\n",
    "        self.name = name\n",
    "        self.dept = dept\n",
    "        self.salary = salary\n",
    " \n",
    "    def __repr__(self):\n",
    "        return '{' + self.name + ', ' + self.dept + ', ' + str(self.salary) + '}'\n",
    "\n",
    "def compare(obj1, obj2):\n",
    "    if obj1.name == obj2.name:\n",
    "        if obj1.dept > obj2.dept:\n",
    "            return -1\n",
    "        else:\n",
    "            return 1\n",
    "    if obj1.name < obj2.name:\n",
    "        return -1\n",
    "    else:\n",
    "        return 1\n",
    " \n",
    "\n",
    "\n",
    "if __name__ == '__main__':\n",
    " \n",
    "    associates = [\n",
    "        Associate('James', 'Finance', 80000),\n",
    "        Associate('Robert', 'Construction', 60000),\n",
    "        Associate('James', 'Telecom', 70000),\n",
    "        Associate('James', 'Aelecom', 70000)\n",
    "    ]\n",
    "    \n",
    "    compare_key = cmp_to_key(compare)\n",
    "    associates.sort(key=compare_key)\n",
    " \n",
    "    # [{Robert, Construction, 60000}, {James, Finance, 80000}, {James, Telecom, 70000}]\n",
    "    print(associates)\n",
    " \n",
    " "
   ]
  },
  {
   "cell_type": "code",
   "execution_count": 9,
   "metadata": {},
   "outputs": [
    {
     "name": "stdout",
     "output_type": "stream",
     "text": [
      "[('Charmander', 'Fire', 52), ('Blastoise', 'Water', 83), ('Beedrill', 'Poison', 90)]\n"
     ]
    }
   ],
   "source": [
    "class Pokemon:\n",
    "   def __init__(self, name, category, attack):\n",
    "       self.name = name\n",
    "       self.category = category\n",
    "       self.attack = attack\n",
    "   def __repr__(self):\n",
    "       return repr((self.name, self.category, self.attack))\n",
    "   \n",
    "pokemon_objects = [\n",
    "   Pokemon('Beedrill', 'Poison', 90),\n",
    "   Pokemon('Charmander', 'Fire', 52),\n",
    "   Pokemon('Blastoise', 'Water', 83),\n",
    "]\n",
    "\n",
    "res = sorted(pokemon_objects, key=lambda x: x.attack)   # sort by attack\n",
    "print(res)"
   ]
  }
 ],
 "metadata": {
  "kernelspec": {
   "display_name": "Python 3.10.6 64-bit",
   "language": "python",
   "name": "python3"
  },
  "language_info": {
   "codemirror_mode": {
    "name": "ipython",
    "version": 3
   },
   "file_extension": ".py",
   "mimetype": "text/x-python",
   "name": "python",
   "nbconvert_exporter": "python",
   "pygments_lexer": "ipython3",
   "version": "3.10.6"
  },
  "orig_nbformat": 4,
  "vscode": {
   "interpreter": {
    "hash": "a42ccb73e7d9bfdf27e036f1d2b8b681e55fc0743cc5586bc2474d4a60f4b886"
   }
  }
 },
 "nbformat": 4,
 "nbformat_minor": 2
}
