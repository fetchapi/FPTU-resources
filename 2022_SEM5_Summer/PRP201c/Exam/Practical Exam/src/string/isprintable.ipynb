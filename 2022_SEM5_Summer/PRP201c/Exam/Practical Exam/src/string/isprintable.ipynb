{
 "cells": [
  {
   "cell_type": "code",
   "execution_count": 3,
   "metadata": {},
   "outputs": [
    {
     "name": "stdout",
     "output_type": "stream",
     "text": [
      "True\n",
      "False\n"
     ]
    }
   ],
   "source": [
    "# Example 1: Python String isprintable()\n",
    "\n",
    "text1 = 'python programming'\n",
    "\n",
    "# checks if text1 is printable \n",
    "result1 = text1.isprintable()\n",
    "print(result1)\n",
    "\n",
    "text2 = 'python programming\\n'\n",
    "\n",
    "# checks if text2 is printable \n",
    "result2 = text2.isprintable() \n",
    "print(result2)"
   ]
  },
  {
   "cell_type": "markdown",
   "metadata": {},
   "source": [
    "In the above example, we have used the `isprintable()` method to check whether the text1 and text2 strings are printable or not.\n",
    "\n",
    "Here,\n",
    "- `text1.isprintable()` - returns `True` because `'python programming'` is printable string\n",
    "- `text2.isprintable()` - returns `False` because `'python programming\\n'` contains a non-printable character `'\\n'`\n",
    "That means if we print `text2`, it does not print `'/n'` character,"
   ]
  },
  {
   "cell_type": "code",
   "execution_count": 4,
   "metadata": {},
   "outputs": [
    {
     "name": "stdout",
     "output_type": "stream",
     "text": [
      "True\n"
     ]
    }
   ],
   "source": [
    "# Example 2: isprintable() with Empty String\n",
    "empty_string = ' '\n",
    "\n",
    "# returns True with an empty string \n",
    "print(empty_string.isprintable())"
   ]
  },
  {
   "cell_type": "code",
   "execution_count": 5,
   "metadata": {},
   "outputs": [
    {
     "name": "stdout",
     "output_type": "stream",
     "text": [
      "Not Printable\n"
     ]
    }
   ],
   "source": [
    "# Example 3: isprintable() with String Containing ASCII\n",
    "# defining string using ASCII value \n",
    "text = chr(27) + chr(97)\n",
    "# chr(27) - is escape character i.e. backslash \\\n",
    "# chr(97) - is letter 'a'\n",
    "\n",
    "# checks if text is printable \n",
    "if text.isprintable():\n",
    "  print('Printable')\n",
    "else:\n",
    "  print('Not Printable')"
   ]
  }
 ],
 "metadata": {
  "kernelspec": {
   "display_name": "Python 3.10.6 64-bit",
   "language": "python",
   "name": "python3"
  },
  "language_info": {
   "codemirror_mode": {
    "name": "ipython",
    "version": 3
   },
   "file_extension": ".py",
   "mimetype": "text/x-python",
   "name": "python",
   "nbconvert_exporter": "python",
   "pygments_lexer": "ipython3",
   "version": "3.10.6"
  },
  "orig_nbformat": 4,
  "vscode": {
   "interpreter": {
    "hash": "a42ccb73e7d9bfdf27e036f1d2b8b681e55fc0743cc5586bc2474d4a60f4b886"
   }
  }
 },
 "nbformat": 4,
 "nbformat_minor": 2
}
