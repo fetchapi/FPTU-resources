{
 "cells": [
  {
   "cell_type": "code",
   "execution_count": 1,
   "metadata": {},
   "outputs": [
    {
     "name": "stdout",
     "output_type": "stream",
     "text": [
      "['Milk', 'Chicken', 'Bread', 'Butter']\n"
     ]
    }
   ],
   "source": [
    "# Example 1: Python String splitlines()\n",
    "# '\\n' is a line break \n",
    "grocery = 'Milk\\nChicken\\nBread\\rButter'\n",
    "\n",
    "# returns a list after splitting the grocery string  \n",
    "print(grocery.splitlines())"
   ]
  },
  {
   "cell_type": "code",
   "execution_count": 2,
   "metadata": {},
   "outputs": [
    {
     "name": "stdout",
     "output_type": "stream",
     "text": [
      "['Milk', 'Chicken', 'Bread', 'Butter']\n"
     ]
    }
   ],
   "source": [
    "# Example 2: splitlines() with Multi Line String\n",
    "# multi line string \n",
    "grocery = '''Milk\n",
    "Chicken\n",
    "Bread\n",
    "Butter'''\n",
    "\n",
    "# returns a list after splitting the grocery string\n",
    "print(grocery.splitlines())\n"
   ]
  },
  {
   "cell_type": "code",
   "execution_count": 3,
   "metadata": {},
   "outputs": [
    {
     "name": "stdout",
     "output_type": "stream",
     "text": [
      "['Milk\\n', 'Chicken\\n', 'Bread\\r', 'Butter']\n",
      "['Milk', 'Chicken', 'Bread', 'Butter']\n"
     ]
    }
   ],
   "source": [
    "# Example 3: Passing Boolean Value in splitlines()\n",
    "\n",
    "grocery = 'Milk\\nChicken\\nBread\\rButter'\n",
    "\n",
    "# returns a list including line breaks \n",
    "resulting_list1 = grocery.splitlines(True)\n",
    "print(resulting_list1)\n",
    "\n",
    "# returns a list without including line breaks \n",
    "resulting_list2 = grocery.splitlines(False)\n",
    "print(resulting_list2)"
   ]
  },
  {
   "cell_type": "code",
   "execution_count": 13,
   "metadata": {},
   "outputs": [
    {
     "name": "stdout",
     "output_type": "stream",
     "text": [
      "a\n",
      "r\n",
      "cfb \n"
     ]
    }
   ],
   "source": [
    "print('a\\nr\\ndfb \\rc')"
   ]
  },
  {
   "cell_type": "markdown",
   "metadata": {},
   "source": [
    "The `splitlines()` method takes an integer value as parameter. Here, `0` represents `True` and other positive or negative numbers indicate `False`. For example,"
   ]
  },
  {
   "cell_type": "code",
   "execution_count": 14,
   "metadata": {},
   "outputs": [
    {
     "name": "stdout",
     "output_type": "stream",
     "text": [
      "['Milk', 'Chicken', 'Bread', 'Butter']\n",
      "['Milk\\n', 'Chicken\\n', 'Bread\\r', 'Butter']\n"
     ]
    }
   ],
   "source": [
    "grocery = 'Milk\\nChicken\\nBread\\rButter'\n",
    "\n",
    "# returns list including line breaks \n",
    "resulting_list1 = grocery.splitlines(0)\n",
    "print(resulting_list1)\n",
    "\n",
    "# returns list without including line breaks \n",
    "resulting_list2 = grocery.splitlines(5)\n",
    "print(resulting_list2)"
   ]
  }
 ],
 "metadata": {
  "kernelspec": {
   "display_name": "Python 3.10.6 64-bit",
   "language": "python",
   "name": "python3"
  },
  "language_info": {
   "codemirror_mode": {
    "name": "ipython",
    "version": 3
   },
   "file_extension": ".py",
   "mimetype": "text/x-python",
   "name": "python",
   "nbconvert_exporter": "python",
   "pygments_lexer": "ipython3",
   "version": "3.10.6"
  },
  "orig_nbformat": 4,
  "vscode": {
   "interpreter": {
    "hash": "a42ccb73e7d9bfdf27e036f1d2b8b681e55fc0743cc5586bc2474d4a60f4b886"
   }
  }
 },
 "nbformat": 4,
 "nbformat_minor": 2
}
