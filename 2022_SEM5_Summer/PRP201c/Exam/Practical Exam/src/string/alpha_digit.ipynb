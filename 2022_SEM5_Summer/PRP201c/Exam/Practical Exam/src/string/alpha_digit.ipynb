{
 "cells": [
  {
   "cell_type": "markdown",
   "metadata": {},
   "source": [
    "The `isalnum()` method returns `True` if all characters in the string are alphanumeric (either alphabets or numbers). If not, it returns `False`."
   ]
  },
  {
   "cell_type": "code",
   "execution_count": 2,
   "metadata": {},
   "outputs": [
    {
     "name": "stdout",
     "output_type": "stream",
     "text": [
      "True\n",
      "False\n",
      "False\n"
     ]
    }
   ],
   "source": [
    "# Example 1: Python isalnum()\n",
    "\n",
    "# contains either numeric or alphabet\n",
    "string1 = \"M234onica\"\n",
    "print(string1.isalnum()) # True \n",
    "\n",
    "# contains whitespace\n",
    "string2 = \"M3onica Gell22er\"\n",
    "print(string2.isalnum()) # False\n",
    "\n",
    "# contains non-alphanumeric character \n",
    "string3 = \"@Monica!\"\n",
    "print(string3.isalnum()) # False "
   ]
  },
  {
   "cell_type": "code",
   "execution_count": 3,
   "metadata": {},
   "outputs": [
    {
     "name": "stdout",
     "output_type": "stream",
     "text": [
      "True\n",
      "False\n",
      "False\n"
     ]
    }
   ],
   "source": [
    "# Example 1: Working of isalpha()\n",
    "\n",
    "name = \"Monica\"\n",
    "print(name.isalpha())\n",
    "\n",
    "# contains whitespace\n",
    "name = \"Monica Geller\"\n",
    "print(name.isalpha())\n",
    "\n",
    "# contains number\n",
    "name = \"Mo3nicaGell22er\"\n",
    "print(name.isalpha())"
   ]
  },
  {
   "cell_type": "code",
   "execution_count": 5,
   "metadata": {},
   "outputs": [
    {
     "name": "stdout",
     "output_type": "stream",
     "text": [
      "True\n",
      "False\n",
      "False\n",
      "False\n",
      "False\n"
     ]
    }
   ],
   "source": [
    "# Example 1: Working of isdecimal()\n",
    "\n",
    "s = \"28212\"\n",
    "print(s.isdecimal())\n",
    "\n",
    "# contains alphabets\n",
    "s = \"32ladk3\"\n",
    "print(s.isdecimal())\n",
    "\n",
    "# contains alphabets and spaces\n",
    "s = \"Mo3 nicaG el l22er\"\n",
    "print(s.isdecimal())\n",
    "\n",
    "#s = '²3455'\n",
    "s = '\\u00B23455'\n",
    "print(s.isdecimal()) # False\n",
    "\n",
    "# s = '½'\n",
    "s = '\\u00BD'\n",
    "print(s.isdecimal()) # False\n"
   ]
  },
  {
   "cell_type": "code",
   "execution_count": 7,
   "metadata": {},
   "outputs": [
    {
     "name": "stdout",
     "output_type": "stream",
     "text": [
      "True\n",
      "False\n",
      "True\n",
      "True\n",
      "False\n"
     ]
    }
   ],
   "source": [
    "# Example 1: Working of isdigit()\n",
    "\n",
    "s = \"28212\"\n",
    "print(s.isdigit())\n",
    "\n",
    "# contains alphabets and spaces\n",
    "s = \"Mo3 nicaG el l22er\"\n",
    "print(s.isdigit())\n",
    "\n",
    "# Example 2: String Containing digits and Numeric Characters\n",
    "s = '23455'\n",
    "print(s.isdigit())\n",
    "\n",
    "#s = '²3455'\n",
    "# subscript is a digit\n",
    "s = '\\u00B23455'\n",
    "print(s.isdigit()) # True\n",
    "\n",
    "# s = '½'\n",
    "# fraction is not a digit\n",
    "s = '\\u00BD'\n",
    "print(s.isdigit()) # False"
   ]
  },
  {
   "cell_type": "code",
   "execution_count": 12,
   "metadata": {},
   "outputs": [
    {
     "name": "stdout",
     "output_type": "stream",
     "text": [
      "True\n",
      "False\n",
      "True\n",
      "True\n"
     ]
    }
   ],
   "source": [
    "# Example 1: Python isnumeric()\n",
    "string1 = \"012345\"\n",
    "# returns True as symbol_number has all numeric characters  \n",
    "print(string1.isnumeric()) \n",
    "\n",
    "string2 = \"Python3\"\n",
    "# returns False as every character of text is not numeric \n",
    "print(string2.isnumeric())\n",
    "\n",
    "# Example 2: isnumeric() with Other Numeric Types\n",
    "# string with superscript \n",
    "superscript_string = '²3455'\n",
    "print(superscript_string.isnumeric())\n",
    "\n",
    "# string with fraction value \n",
    "fraction_string = '½123'\n",
    "print(fraction_string.isnumeric())"
   ]
  }
 ],
 "metadata": {
  "kernelspec": {
   "display_name": "Python 3.10.6 64-bit",
   "language": "python",
   "name": "python3"
  },
  "language_info": {
   "codemirror_mode": {
    "name": "ipython",
    "version": 3
   },
   "file_extension": ".py",
   "mimetype": "text/x-python",
   "name": "python",
   "nbconvert_exporter": "python",
   "pygments_lexer": "ipython3",
   "version": "3.10.6"
  },
  "orig_nbformat": 4,
  "vscode": {
   "interpreter": {
    "hash": "a42ccb73e7d9bfdf27e036f1d2b8b681e55fc0743cc5586bc2474d4a60f4b886"
   }
  }
 },
 "nbformat": 4,
 "nbformat_minor": 2
}
