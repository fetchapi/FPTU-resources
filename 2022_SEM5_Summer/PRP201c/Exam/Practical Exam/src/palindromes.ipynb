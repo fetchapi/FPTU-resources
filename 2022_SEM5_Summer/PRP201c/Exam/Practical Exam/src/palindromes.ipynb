{
 "cells": [
  {
   "cell_type": "markdown",
   "metadata": {},
   "source": [
    "### Count of Palindromic substrings in an Index range\n",
    "~~~\n",
    "Input : String str = \"xyaabax\"\n",
    "           Range1 = (3, 5)   \n",
    "           Range2 = (2, 3) \n",
    "Output : 4\n",
    "         3\n",
    "For Range1,  substring is \"aba\"\n",
    "Count of palindromic substring in \"aba\" is \n",
    "four : \"a\", \"b\", \"aba\", \"a\"\n",
    "For Range2,  substring is \"aa\"\n",
    "Count of palindromic substring in \"aa\" is \n",
    "3 : \"a\", \"a\", \"aa\"\n",
    "~~~"
   ]
  },
  {
   "cell_type": "code",
   "execution_count": null,
   "metadata": {},
   "outputs": [],
   "source": [
    "# Python3 program to query the number of\n",
    "# palindromic substrings of a string in a range\n",
    "M = 50\n",
    "\n",
    "# Utility method to construct the dp array\n",
    "def constructDP(dp, string):\n",
    "\n",
    "\tl = len(string)\n",
    "\n",
    "\t# declare 2D array isPalin, isPalin[i][j] will be 1 if str(i..j) is palindrome and initialize it with zero\n",
    "\tisPalin = [[0 for i in range(l + 1)]\n",
    "\t\t\t\tfor j in range(l + 1)]\n",
    "\n",
    "\t# loop for starting index of range\n",
    "\tfor i in range(l - 1, -1, -1):\n",
    "\n",
    "\t\t# initialize value for one character strings as 1\n",
    "\t\tisPalin[i][i], dp[i][i] = 1, 1\n",
    "\n",
    "\t\t# loop for ending index of range\n",
    "\t\tfor j in range(i + 1, l):\n",
    "\n",
    "\t\t\t# isPalin[i][j] will be 1 if ith and jth characters are equal and mid substring str(i+1..j-1) is also a palindrome\n",
    "\t\t\tisPalin[i][j] = (string[i] == string[j] and\n",
    "\t\t\t\t\t\t\t(i + 1 > j - 1 or isPalin[i + 1][j - 1]))\n",
    "\n",
    "\t\t\t# dp[i][j] will be addition of number\n",
    "\t\t\t# of palindromes from i to j-1 and i+1\n",
    "\t\t\t# to j subtracting palindromes from i+1\n",
    "\t\t\t# to j-1 (as counted twice) plus 1 if\n",
    "\t\t\t# str(i..j) is also a palindrome\n",
    "\t\t\tdp[i][j] = (dp[i][j - 1] + dp[i + 1][j] -\n",
    "\t\t\t\t\t\tdp[i + 1][j - 1] + isPalin[i][j])\n",
    "\n",
    "# Method returns count of palindromic\n",
    "# substring in range (l, r)\n",
    "def countOfPalindromeInRange(dp, l, r):\n",
    "\treturn dp[l][r]\n",
    "\n",
    "# Driver code\n",
    "if __name__ == \"__main__\":\n",
    "\n",
    "\tstring = \"xyaabax\"\n",
    "\tdp = [[0 for i in range(M)]\n",
    "\t\t\tfor j in range(M)]\n",
    "\t\n",
    "\tconstructDP(dp, string)\n",
    "\n",
    "\tl, r = 3, 5\n",
    "\tprint(countOfPalindromeInRange(dp, l, r))\n",
    "\n",
    "# This code is contributed by Rituraj Jain\n"
   ]
  },
  {
   "cell_type": "code",
   "execution_count": null,
   "metadata": {},
   "outputs": [],
   "source": [
    "# Check palindrome string\n",
    "# function which return reverse of a string\n",
    "\n",
    "def isPalindrome(s):\n",
    "\treturn s == s[::-1]\n",
    "\n",
    "\n",
    "# Driver code\n",
    "s = \"malayalam\"\n",
    "ans = isPalindrome(s)\n",
    "\n",
    "if ans:\n",
    "\tprint(\"Yes\")\n",
    "else:\n",
    "\tprint(\"No\")\n"
   ]
  },
  {
   "cell_type": "code",
   "execution_count": 2,
   "metadata": {},
   "outputs": [
    {
     "name": "stdout",
     "output_type": "stream",
     "text": [
      "The number is palindrome!\n"
     ]
    }
   ],
   "source": [
    "# check palindrome number\n",
    "num = 66766\n",
    "temp = num\n",
    "rev = 0\n",
    "while (num > 0):\n",
    "    dig = num % 10\n",
    "    rev = rev * 10 + dig\n",
    "    num = num // 10\n",
    "if(temp==rev):\n",
    "    print(\"The number is palindrome!\")\n",
    "else:\n",
    "    print(\"Not a palindrome!\")"
   ]
  },
  {
   "cell_type": "code",
   "execution_count": 3,
   "metadata": {},
   "outputs": [
    {
     "name": "stdout",
     "output_type": "stream",
     "text": [
      "The original number is : 9669669\n",
      "Is the number palindrome ? : True\n"
     ]
    }
   ],
   "source": [
    "# Python3 code to demonstrate\n",
    "# checking a number is palindrome\n",
    "# using math.log() + recursion + list comprehension\n",
    "import math\n",
    "\n",
    "# the recursive function to reverse\n",
    "def rev(num):\n",
    "\treturn int(num != 0) and ((num % 10) * \\\n",
    "\t\t\t(10**int(math.log(num, 10))) + \\\n",
    "\t\t\t\t\t\trev(num // 10))\n",
    "\n",
    "# initializing number\n",
    "test_number = 9669669\n",
    "\n",
    "# printing the original number\n",
    "print (\"The original number is : \" + str(test_number))\n",
    "\n",
    "# using math.log() + recursion + list comprehension\n",
    "# for checking a number is palindrome\n",
    "res = test_number == rev(test_number)\n",
    "\n",
    "# printing result\n",
    "print (\"Is the number palindrome ? : \" + str(res))\n"
   ]
  }
 ],
 "metadata": {
  "kernelspec": {
   "display_name": "Python 3.10.6 64-bit",
   "language": "python",
   "name": "python3"
  },
  "language_info": {
   "codemirror_mode": {
    "name": "ipython",
    "version": 3
   },
   "file_extension": ".py",
   "mimetype": "text/x-python",
   "name": "python",
   "nbconvert_exporter": "python",
   "pygments_lexer": "ipython3",
   "version": "3.10.6"
  },
  "orig_nbformat": 4,
  "vscode": {
   "interpreter": {
    "hash": "a42ccb73e7d9bfdf27e036f1d2b8b681e55fc0743cc5586bc2474d4a60f4b886"
   }
  }
 },
 "nbformat": 4,
 "nbformat_minor": 2
}
